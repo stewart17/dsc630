{
 "cells": [
  {
   "cell_type": "markdown",
   "id": "89f56ad4",
   "metadata": {},
   "source": [
    "# Week 1 Exercise"
   ]
  },
  {
   "cell_type": "code",
   "execution_count": 1,
   "id": "cdc8611b",
   "metadata": {},
   "outputs": [],
   "source": [
    "import pandas as pd\n",
    "import matplotlib.pyplot as plt"
   ]
  },
  {
   "cell_type": "code",
   "execution_count": 2,
   "id": "0f10fa4c",
   "metadata": {},
   "outputs": [],
   "source": [
    "living = pd.read_csv(\"cost-of-living.csv\")"
   ]
  },
  {
   "cell_type": "code",
   "execution_count": 3,
   "id": "e6a390d5",
   "metadata": {},
   "outputs": [
    {
     "data": {
      "text/html": [
       "<div>\n",
       "<style scoped>\n",
       "    .dataframe tbody tr th:only-of-type {\n",
       "        vertical-align: middle;\n",
       "    }\n",
       "\n",
       "    .dataframe tbody tr th {\n",
       "        vertical-align: top;\n",
       "    }\n",
       "\n",
       "    .dataframe thead th {\n",
       "        text-align: right;\n",
       "    }\n",
       "</style>\n",
       "<table border=\"1\" class=\"dataframe\">\n",
       "  <thead>\n",
       "    <tr style=\"text-align: right;\">\n",
       "      <th></th>\n",
       "      <th>Unnamed: 0</th>\n",
       "      <th>city</th>\n",
       "      <th>country</th>\n",
       "      <th>x1</th>\n",
       "      <th>x2</th>\n",
       "      <th>x3</th>\n",
       "      <th>x4</th>\n",
       "      <th>x5</th>\n",
       "      <th>x6</th>\n",
       "      <th>x7</th>\n",
       "      <th>...</th>\n",
       "      <th>x47</th>\n",
       "      <th>x48</th>\n",
       "      <th>x49</th>\n",
       "      <th>x50</th>\n",
       "      <th>x51</th>\n",
       "      <th>x52</th>\n",
       "      <th>x53</th>\n",
       "      <th>x54</th>\n",
       "      <th>x55</th>\n",
       "      <th>data_quality</th>\n",
       "    </tr>\n",
       "  </thead>\n",
       "  <tbody>\n",
       "    <tr>\n",
       "      <th>0</th>\n",
       "      <td>0</td>\n",
       "      <td>Delhi</td>\n",
       "      <td>India</td>\n",
       "      <td>4.90</td>\n",
       "      <td>22.04</td>\n",
       "      <td>4.28</td>\n",
       "      <td>1.84</td>\n",
       "      <td>3.67</td>\n",
       "      <td>1.78</td>\n",
       "      <td>0.48</td>\n",
       "      <td>...</td>\n",
       "      <td>36.26</td>\n",
       "      <td>223.87</td>\n",
       "      <td>133.38</td>\n",
       "      <td>596.16</td>\n",
       "      <td>325.82</td>\n",
       "      <td>2619.46</td>\n",
       "      <td>1068.90</td>\n",
       "      <td>586.35</td>\n",
       "      <td>7.96</td>\n",
       "      <td>1</td>\n",
       "    </tr>\n",
       "    <tr>\n",
       "      <th>1</th>\n",
       "      <td>1</td>\n",
       "      <td>Shanghai</td>\n",
       "      <td>China</td>\n",
       "      <td>5.59</td>\n",
       "      <td>40.51</td>\n",
       "      <td>5.59</td>\n",
       "      <td>1.12</td>\n",
       "      <td>4.19</td>\n",
       "      <td>3.96</td>\n",
       "      <td>0.52</td>\n",
       "      <td>...</td>\n",
       "      <td>121.19</td>\n",
       "      <td>1080.07</td>\n",
       "      <td>564.30</td>\n",
       "      <td>2972.57</td>\n",
       "      <td>1532.23</td>\n",
       "      <td>17333.09</td>\n",
       "      <td>9174.88</td>\n",
       "      <td>1382.83</td>\n",
       "      <td>5.01</td>\n",
       "      <td>1</td>\n",
       "    </tr>\n",
       "    <tr>\n",
       "      <th>2</th>\n",
       "      <td>2</td>\n",
       "      <td>Jakarta</td>\n",
       "      <td>Indonesia</td>\n",
       "      <td>2.54</td>\n",
       "      <td>22.25</td>\n",
       "      <td>3.50</td>\n",
       "      <td>2.02</td>\n",
       "      <td>3.18</td>\n",
       "      <td>2.19</td>\n",
       "      <td>0.59</td>\n",
       "      <td>...</td>\n",
       "      <td>80.32</td>\n",
       "      <td>482.85</td>\n",
       "      <td>270.15</td>\n",
       "      <td>1117.69</td>\n",
       "      <td>584.37</td>\n",
       "      <td>2694.05</td>\n",
       "      <td>1269.44</td>\n",
       "      <td>483.19</td>\n",
       "      <td>9.15</td>\n",
       "      <td>1</td>\n",
       "    </tr>\n",
       "    <tr>\n",
       "      <th>3</th>\n",
       "      <td>3</td>\n",
       "      <td>Manila</td>\n",
       "      <td>Philippines</td>\n",
       "      <td>3.54</td>\n",
       "      <td>27.40</td>\n",
       "      <td>3.54</td>\n",
       "      <td>1.24</td>\n",
       "      <td>1.90</td>\n",
       "      <td>2.91</td>\n",
       "      <td>0.93</td>\n",
       "      <td>...</td>\n",
       "      <td>61.82</td>\n",
       "      <td>559.52</td>\n",
       "      <td>281.78</td>\n",
       "      <td>1754.40</td>\n",
       "      <td>684.81</td>\n",
       "      <td>3536.04</td>\n",
       "      <td>2596.44</td>\n",
       "      <td>419.02</td>\n",
       "      <td>7.80</td>\n",
       "      <td>1</td>\n",
       "    </tr>\n",
       "    <tr>\n",
       "      <th>4</th>\n",
       "      <td>4</td>\n",
       "      <td>Seoul</td>\n",
       "      <td>South Korea</td>\n",
       "      <td>7.16</td>\n",
       "      <td>52.77</td>\n",
       "      <td>6.03</td>\n",
       "      <td>3.02</td>\n",
       "      <td>4.52</td>\n",
       "      <td>3.86</td>\n",
       "      <td>1.46</td>\n",
       "      <td>...</td>\n",
       "      <td>108.30</td>\n",
       "      <td>809.83</td>\n",
       "      <td>583.60</td>\n",
       "      <td>2621.05</td>\n",
       "      <td>1683.74</td>\n",
       "      <td>21847.94</td>\n",
       "      <td>10832.90</td>\n",
       "      <td>2672.23</td>\n",
       "      <td>3.47</td>\n",
       "      <td>1</td>\n",
       "    </tr>\n",
       "    <tr>\n",
       "      <th>...</th>\n",
       "      <td>...</td>\n",
       "      <td>...</td>\n",
       "      <td>...</td>\n",
       "      <td>...</td>\n",
       "      <td>...</td>\n",
       "      <td>...</td>\n",
       "      <td>...</td>\n",
       "      <td>...</td>\n",
       "      <td>...</td>\n",
       "      <td>...</td>\n",
       "      <td>...</td>\n",
       "      <td>...</td>\n",
       "      <td>...</td>\n",
       "      <td>...</td>\n",
       "      <td>...</td>\n",
       "      <td>...</td>\n",
       "      <td>...</td>\n",
       "      <td>...</td>\n",
       "      <td>...</td>\n",
       "      <td>...</td>\n",
       "      <td>...</td>\n",
       "    </tr>\n",
       "    <tr>\n",
       "      <th>4869</th>\n",
       "      <td>4869</td>\n",
       "      <td>Peterborough</td>\n",
       "      <td>Australia</td>\n",
       "      <td>NaN</td>\n",
       "      <td>NaN</td>\n",
       "      <td>NaN</td>\n",
       "      <td>NaN</td>\n",
       "      <td>NaN</td>\n",
       "      <td>NaN</td>\n",
       "      <td>NaN</td>\n",
       "      <td>...</td>\n",
       "      <td>NaN</td>\n",
       "      <td>NaN</td>\n",
       "      <td>NaN</td>\n",
       "      <td>NaN</td>\n",
       "      <td>NaN</td>\n",
       "      <td>NaN</td>\n",
       "      <td>NaN</td>\n",
       "      <td>NaN</td>\n",
       "      <td>NaN</td>\n",
       "      <td>0</td>\n",
       "    </tr>\n",
       "    <tr>\n",
       "      <th>4870</th>\n",
       "      <td>4870</td>\n",
       "      <td>Georgetown</td>\n",
       "      <td>Australia</td>\n",
       "      <td>NaN</td>\n",
       "      <td>NaN</td>\n",
       "      <td>NaN</td>\n",
       "      <td>NaN</td>\n",
       "      <td>NaN</td>\n",
       "      <td>NaN</td>\n",
       "      <td>NaN</td>\n",
       "      <td>...</td>\n",
       "      <td>NaN</td>\n",
       "      <td>NaN</td>\n",
       "      <td>NaN</td>\n",
       "      <td>NaN</td>\n",
       "      <td>NaN</td>\n",
       "      <td>NaN</td>\n",
       "      <td>NaN</td>\n",
       "      <td>NaN</td>\n",
       "      <td>NaN</td>\n",
       "      <td>0</td>\n",
       "    </tr>\n",
       "    <tr>\n",
       "      <th>4871</th>\n",
       "      <td>4871</td>\n",
       "      <td>Ixtapa Zihuatanejo</td>\n",
       "      <td>Mexico</td>\n",
       "      <td>5.19</td>\n",
       "      <td>31.13</td>\n",
       "      <td>12.97</td>\n",
       "      <td>0.99</td>\n",
       "      <td>NaN</td>\n",
       "      <td>1.82</td>\n",
       "      <td>0.62</td>\n",
       "      <td>...</td>\n",
       "      <td>103.78</td>\n",
       "      <td>415.11</td>\n",
       "      <td>259.44</td>\n",
       "      <td>518.89</td>\n",
       "      <td>415.11</td>\n",
       "      <td>NaN</td>\n",
       "      <td>NaN</td>\n",
       "      <td>NaN</td>\n",
       "      <td>NaN</td>\n",
       "      <td>0</td>\n",
       "    </tr>\n",
       "    <tr>\n",
       "      <th>4872</th>\n",
       "      <td>4872</td>\n",
       "      <td>Iqaluit</td>\n",
       "      <td>Canada</td>\n",
       "      <td>29.78</td>\n",
       "      <td>74.61</td>\n",
       "      <td>13.77</td>\n",
       "      <td>6.70</td>\n",
       "      <td>8.93</td>\n",
       "      <td>3.72</td>\n",
       "      <td>3.54</td>\n",
       "      <td>...</td>\n",
       "      <td>NaN</td>\n",
       "      <td>NaN</td>\n",
       "      <td>NaN</td>\n",
       "      <td>2978.11</td>\n",
       "      <td>2978.11</td>\n",
       "      <td>NaN</td>\n",
       "      <td>NaN</td>\n",
       "      <td>NaN</td>\n",
       "      <td>6.53</td>\n",
       "      <td>0</td>\n",
       "    </tr>\n",
       "    <tr>\n",
       "      <th>4873</th>\n",
       "      <td>4873</td>\n",
       "      <td>Neiafu</td>\n",
       "      <td>Tonga</td>\n",
       "      <td>NaN</td>\n",
       "      <td>29.53</td>\n",
       "      <td>10.55</td>\n",
       "      <td>10.55</td>\n",
       "      <td>NaN</td>\n",
       "      <td>NaN</td>\n",
       "      <td>2.11</td>\n",
       "      <td>...</td>\n",
       "      <td>NaN</td>\n",
       "      <td>NaN</td>\n",
       "      <td>NaN</td>\n",
       "      <td>NaN</td>\n",
       "      <td>NaN</td>\n",
       "      <td>NaN</td>\n",
       "      <td>NaN</td>\n",
       "      <td>NaN</td>\n",
       "      <td>NaN</td>\n",
       "      <td>0</td>\n",
       "    </tr>\n",
       "  </tbody>\n",
       "</table>\n",
       "<p>4874 rows × 59 columns</p>\n",
       "</div>"
      ],
      "text/plain": [
       "      Unnamed: 0                city      country     x1     x2     x3     x4  \\\n",
       "0              0               Delhi        India   4.90  22.04   4.28   1.84   \n",
       "1              1            Shanghai        China   5.59  40.51   5.59   1.12   \n",
       "2              2             Jakarta    Indonesia   2.54  22.25   3.50   2.02   \n",
       "3              3              Manila  Philippines   3.54  27.40   3.54   1.24   \n",
       "4              4               Seoul  South Korea   7.16  52.77   6.03   3.02   \n",
       "...          ...                 ...          ...    ...    ...    ...    ...   \n",
       "4869        4869        Peterborough    Australia    NaN    NaN    NaN    NaN   \n",
       "4870        4870          Georgetown    Australia    NaN    NaN    NaN    NaN   \n",
       "4871        4871  Ixtapa Zihuatanejo       Mexico   5.19  31.13  12.97   0.99   \n",
       "4872        4872             Iqaluit       Canada  29.78  74.61  13.77   6.70   \n",
       "4873        4873              Neiafu        Tonga    NaN  29.53  10.55  10.55   \n",
       "\n",
       "        x5    x6    x7  ...     x47      x48     x49      x50      x51  \\\n",
       "0     3.67  1.78  0.48  ...   36.26   223.87  133.38   596.16   325.82   \n",
       "1     4.19  3.96  0.52  ...  121.19  1080.07  564.30  2972.57  1532.23   \n",
       "2     3.18  2.19  0.59  ...   80.32   482.85  270.15  1117.69   584.37   \n",
       "3     1.90  2.91  0.93  ...   61.82   559.52  281.78  1754.40   684.81   \n",
       "4     4.52  3.86  1.46  ...  108.30   809.83  583.60  2621.05  1683.74   \n",
       "...    ...   ...   ...  ...     ...      ...     ...      ...      ...   \n",
       "4869   NaN   NaN   NaN  ...     NaN      NaN     NaN      NaN      NaN   \n",
       "4870   NaN   NaN   NaN  ...     NaN      NaN     NaN      NaN      NaN   \n",
       "4871   NaN  1.82  0.62  ...  103.78   415.11  259.44   518.89   415.11   \n",
       "4872  8.93  3.72  3.54  ...     NaN      NaN     NaN  2978.11  2978.11   \n",
       "4873   NaN   NaN  2.11  ...     NaN      NaN     NaN      NaN      NaN   \n",
       "\n",
       "           x52       x53      x54   x55  data_quality  \n",
       "0      2619.46   1068.90   586.35  7.96             1  \n",
       "1     17333.09   9174.88  1382.83  5.01             1  \n",
       "2      2694.05   1269.44   483.19  9.15             1  \n",
       "3      3536.04   2596.44   419.02  7.80             1  \n",
       "4     21847.94  10832.90  2672.23  3.47             1  \n",
       "...        ...       ...      ...   ...           ...  \n",
       "4869       NaN       NaN      NaN   NaN             0  \n",
       "4870       NaN       NaN      NaN   NaN             0  \n",
       "4871       NaN       NaN      NaN   NaN             0  \n",
       "4872       NaN       NaN      NaN  6.53             0  \n",
       "4873       NaN       NaN      NaN   NaN             0  \n",
       "\n",
       "[4874 rows x 59 columns]"
      ]
     },
     "execution_count": 3,
     "metadata": {},
     "output_type": "execute_result"
    }
   ],
   "source": [
    "living"
   ]
  },
  {
   "cell_type": "markdown",
   "id": "60a79657",
   "metadata": {},
   "source": [
    "### Describing the Data Set"
   ]
  },
  {
   "cell_type": "markdown",
   "id": "9cb37fbe",
   "metadata": {},
   "source": [
    "The dataset I chose is about the global cost of living. It contains over 5000 cities and 50 different variables that act as markers for the cost of living in that particular area. These markers range from the cost of a type of clothing, to the cost of internet to the cost of an apartment. \n",
    "\n",
    "The two questions I would like to explore visually are:\n",
    "1. Can you compare apples to oranges? That is, how does the cost of apples and oranges vary and do they vary in similar ways across countries.\n",
    "2. What is the distribution of average take home salary like?"
   ]
  },
  {
   "cell_type": "markdown",
   "id": "39fa86e2",
   "metadata": {},
   "source": [
    "### Visualizing the Data"
   ]
  },
  {
   "cell_type": "code",
   "execution_count": 33,
   "id": "1a4d3fd0",
   "metadata": {},
   "outputs": [
    {
     "data": {
      "image/png": "[encoded data removed]",
      "text/plain": [
       "<Figure size 432x288 with 1 Axes>"
      ]
     },
     "metadata": {
      "needs_background": "light"
     },
     "output_type": "display_data"
    }
   ],
   "source": [
    "# histogram of apples and oranges\n",
    "plt.hist(living.x16, label=\"apples\")\n",
    "plt.hist(living.x18, label=\"oranges\")\n",
    "plt.title(\"Frequency of Cost of Apples vs Oranges\")\n",
    "plt.xlabel(\"Cost ($)\")\n",
    "plt.ylabel(\"Frequency\")\n",
    "plt.legend()\n",
    "plt.show()"
   ]
  },
  {
   "cell_type": "code",
   "execution_count": 28,
   "id": "47ae0b8b",
   "metadata": {},
   "outputs": [
    {
     "data": {
      "image/png": "[encoded data removed]",
      "text/plain": [
       "<Figure size 432x288 with 1 Axes>"
      ]
     },
     "metadata": {
      "needs_background": "light"
     },
     "output_type": "display_data"
    }
   ],
   "source": [
    "# boxplot of average monthly net salary\n",
    "plt.boxplot(living.x54.dropna())\n",
    "plt.ylabel(\"Average Monthly Net Salary ($)\")\n",
    "plt.title(\"Boxplot of Average Monthly Net Salary\")\n",
    "plt.show()"
   ]
  },
  {
   "cell_type": "code",
   "execution_count": 23,
   "id": "617de3ec",
   "metadata": {},
   "outputs": [],
   "source": [
    "df_sample=living.sample(1000)"
   ]
  },
  {
   "cell_type": "code",
   "execution_count": 27,
   "id": "efa8a2e9",
   "metadata": {
    "scrolled": true
   },
   "outputs": [
    {
     "data": {
      "image/png": "[encoded data removed]",
      "text/plain": [
       "<Figure size 432x288 with 1 Axes>"
      ]
     },
     "metadata": {
      "needs_background": "light"
     },
     "output_type": "display_data"
    }
   ],
   "source": [
    "# scatterplot of apples vs oranges\n",
    "plt.scatter(df_sample.x16, df_sample.x18, s=.6)\n",
    "plt.title(\"Comparing Apples to Oranges\")\n",
    "plt.xlabel(\"Cost of Apples\")\n",
    "plt.ylabel(\"Cost of Oranges\")\n",
    "plt.show()"
   ]
  },
  {
   "cell_type": "code",
   "execution_count": 31,
   "id": "4bc49c2a",
   "metadata": {},
   "outputs": [
    {
     "data": {
      "text/plain": [
       "Text(0.5, 1.0, 'Frequency of Average Monthly Net Salary ($)')"
      ]
     },
     "execution_count": 31,
     "metadata": {},
     "output_type": "execute_result"
    },
    {
     "data": {
      "image/png": "[encoded data removed]",
      "text/plain": [
       "<Figure size 432x288 with 1 Axes>"
      ]
     },
     "metadata": {
      "needs_background": "light"
     },
     "output_type": "display_data"
    }
   ],
   "source": [
    "# histogram of average montly net salary\n",
    "plt.hist(living.x54.dropna())\n",
    "plt.xlabel(\"Average Monthly Net Salary ($)\")\n",
    "plt.ylabel(\"Frequency\")\n",
    "plt.title(\"Frequency of Average Monthly Net Salary ($)\")"
   ]
  },
  {
   "cell_type": "markdown",
   "id": "a63651d2",
   "metadata": {},
   "source": [
    "### Summary of Results"
   ]
  },
  {
   "cell_type": "markdown",
   "id": "1094b3ea",
   "metadata": {},
   "source": [
    "#### Comparing Apples to Oranges"
   ]
  },
  {
   "cell_type": "markdown",
   "id": "35365b07",
   "metadata": {},
   "source": [
    "The visualizations support the idea that you can, in fact, compare apples to oranges, at least when it comes to apples and oranges as markers for cost of living. The initial histogram shows a similar distribution in the cost of apples and oranges. Both had a heavy positive skew, meaning most countries had cheaper costs of apples/oranges. That said, as the prices increased, the frequency decreased at different rates, with oranges droppin off much faster than apples. \n",
    "\n",
    "In the scatterplot, one can also see this same conclusion. The costs are are grouped together and increase together at first. But as the cost goes higher than $5, the costs diverge. "
   ]
  },
  {
   "cell_type": "markdown",
   "id": "2a10ce52",
   "metadata": {},
   "source": [
    "#### Distribution of Average Monthly Net Salary"
   ]
  },
  {
   "cell_type": "markdown",
   "id": "22b7793b",
   "metadata": {},
   "source": [
    "The distribution of average monthly net salary is incredibly skewed. As the boxplot shows, the median and average are very low with a fairly substantial amount of outliers above the maximum. This shows just how unequal the distributions of salaries are. A small amount of countries have very high net incomes, while the majority are in the $1000-$3000 range.\n",
    "\n",
    "We can see even more clearly the exponential nature of the distribution in the histogram. Here we can see that over a quarter of cities in the data set make 2000 on average, while less than 100 make more than $6000."
   ]
  }
 ],
 "metadata": {
  "kernelspec": {
   "display_name": "Python 3 (ipykernel)",
   "language": "python",
   "name": "python3"
  },
  "language_info": {
   "codemirror_mode": {
    "name": "ipython",
    "version": 3
   },
   "file_extension": ".py",
   "mimetype": "text/x-python",
   "name": "python",
   "nbconvert_exporter": "python",
   "pygments_lexer": "ipython3",
   "version": "3.9.7"
  }
 },
 "nbformat": 4,
 "nbformat_minor": 5
}
