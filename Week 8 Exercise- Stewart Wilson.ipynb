{
 "cells": [
  {
   "cell_type": "markdown",
   "id": "391dea6c",
   "metadata": {},
   "source": [
    "# Week 8 Exercise- Stewart Wilson"
   ]
  },
  {
   "cell_type": "markdown",
   "id": "d2c0c35f",
   "metadata": {},
   "source": [
    "In this week's exercise I am tasked with creating a predictive model from time series data. Particualry, I must build a model to predict the last 12 month's sales for a given retail company. Time series data can be tricky with, particularly when it has seasonality and trends. I hope that through doing this exercise I will gain a better understanding of how to tune a time series predictive model to help account for these challenges. "
   ]
  },
  {
   "cell_type": "code",
   "execution_count": 1,
   "id": "803cb69e",
   "metadata": {},
   "outputs": [],
   "source": [
    "import pandas as pd\n",
    "import seaborn as sns\n",
    "import matplotlib.pyplot as plt\n",
    "import plotly.express as px\n",
    "from statsmodels.tsa.statespace.sarimax import SARIMAX\n",
    "from sklearn.metrics import mean_squared_error\n",
    "import numpy as np\n",
    "import statsmodels.api as sm\n",
    "from statsmodels.tsa.stattools import adfuller\n",
    "from statsmodels.graphics.tsaplots import plot_acf, plot_pacf\n",
    "from pmdarima.arima import auto_arima"
   ]
  },
  {
   "cell_type": "markdown",
   "id": "3a0a4caa",
   "metadata": {},
   "source": [
    "## Importing and Cleaning Data"
   ]
  },
  {
   "cell_type": "code",
   "execution_count": 3,
   "id": "4d48ed2c",
   "metadata": {},
   "outputs": [],
   "source": [
    "retail_df = pd.read_csv(\"us_retail_sales.csv\")"
   ]
  },
  {
   "cell_type": "code",
   "execution_count": 4,
   "id": "8385552e",
   "metadata": {
    "scrolled": true
   },
   "outputs": [
    {
     "data": {
      "text/html": [
       "<div>\n",
       "<style scoped>\n",
       "    .dataframe tbody tr th:only-of-type {\n",
       "        vertical-align: middle;\n",
       "    }\n",
       "\n",
       "    .dataframe tbody tr th {\n",
       "        vertical-align: top;\n",
       "    }\n",
       "\n",
       "    .dataframe thead th {\n",
       "        text-align: right;\n",
       "    }\n",
       "</style>\n",
       "<table border=\"1\" class=\"dataframe\">\n",
       "  <thead>\n",
       "    <tr style=\"text-align: right;\">\n",
       "      <th></th>\n",
       "      <th>YEAR</th>\n",
       "      <th>JAN</th>\n",
       "      <th>FEB</th>\n",
       "      <th>MAR</th>\n",
       "      <th>APR</th>\n",
       "      <th>MAY</th>\n",
       "      <th>JUN</th>\n",
       "      <th>JUL</th>\n",
       "      <th>AUG</th>\n",
       "      <th>SEP</th>\n",
       "      <th>OCT</th>\n",
       "      <th>NOV</th>\n",
       "      <th>DEC</th>\n",
       "    </tr>\n",
       "  </thead>\n",
       "  <tbody>\n",
       "    <tr>\n",
       "      <th>0</th>\n",
       "      <td>1992</td>\n",
       "      <td>146925</td>\n",
       "      <td>147223</td>\n",
       "      <td>146805</td>\n",
       "      <td>148032</td>\n",
       "      <td>149010</td>\n",
       "      <td>149800</td>\n",
       "      <td>150761.0</td>\n",
       "      <td>151067.0</td>\n",
       "      <td>152588.0</td>\n",
       "      <td>153521.0</td>\n",
       "      <td>153583.0</td>\n",
       "      <td>155614.0</td>\n",
       "    </tr>\n",
       "    <tr>\n",
       "      <th>1</th>\n",
       "      <td>1993</td>\n",
       "      <td>157555</td>\n",
       "      <td>156266</td>\n",
       "      <td>154752</td>\n",
       "      <td>158979</td>\n",
       "      <td>160605</td>\n",
       "      <td>160127</td>\n",
       "      <td>162816.0</td>\n",
       "      <td>162506.0</td>\n",
       "      <td>163258.0</td>\n",
       "      <td>164685.0</td>\n",
       "      <td>166594.0</td>\n",
       "      <td>168161.0</td>\n",
       "    </tr>\n",
       "    <tr>\n",
       "      <th>2</th>\n",
       "      <td>1994</td>\n",
       "      <td>167518</td>\n",
       "      <td>169649</td>\n",
       "      <td>172766</td>\n",
       "      <td>173106</td>\n",
       "      <td>172329</td>\n",
       "      <td>174241</td>\n",
       "      <td>174781.0</td>\n",
       "      <td>177295.0</td>\n",
       "      <td>178787.0</td>\n",
       "      <td>180561.0</td>\n",
       "      <td>180703.0</td>\n",
       "      <td>181524.0</td>\n",
       "    </tr>\n",
       "    <tr>\n",
       "      <th>3</th>\n",
       "      <td>1995</td>\n",
       "      <td>182413</td>\n",
       "      <td>179488</td>\n",
       "      <td>181013</td>\n",
       "      <td>181686</td>\n",
       "      <td>183536</td>\n",
       "      <td>186081</td>\n",
       "      <td>185431.0</td>\n",
       "      <td>186806.0</td>\n",
       "      <td>187366.0</td>\n",
       "      <td>186565.0</td>\n",
       "      <td>189055.0</td>\n",
       "      <td>190774.0</td>\n",
       "    </tr>\n",
       "    <tr>\n",
       "      <th>4</th>\n",
       "      <td>1996</td>\n",
       "      <td>189135</td>\n",
       "      <td>192266</td>\n",
       "      <td>194029</td>\n",
       "      <td>194744</td>\n",
       "      <td>196205</td>\n",
       "      <td>196136</td>\n",
       "      <td>196187.0</td>\n",
       "      <td>196218.0</td>\n",
       "      <td>198859.0</td>\n",
       "      <td>200509.0</td>\n",
       "      <td>200174.0</td>\n",
       "      <td>201284.0</td>\n",
       "    </tr>\n",
       "    <tr>\n",
       "      <th>5</th>\n",
       "      <td>1997</td>\n",
       "      <td>202371</td>\n",
       "      <td>204286</td>\n",
       "      <td>204990</td>\n",
       "      <td>203399</td>\n",
       "      <td>201699</td>\n",
       "      <td>204675</td>\n",
       "      <td>207014.0</td>\n",
       "      <td>207635.0</td>\n",
       "      <td>208326.0</td>\n",
       "      <td>208078.0</td>\n",
       "      <td>208936.0</td>\n",
       "      <td>209363.0</td>\n",
       "    </tr>\n",
       "    <tr>\n",
       "      <th>6</th>\n",
       "      <td>1998</td>\n",
       "      <td>209666</td>\n",
       "      <td>209552</td>\n",
       "      <td>210832</td>\n",
       "      <td>213633</td>\n",
       "      <td>214639</td>\n",
       "      <td>216337</td>\n",
       "      <td>214841.0</td>\n",
       "      <td>213636.0</td>\n",
       "      <td>215720.0</td>\n",
       "      <td>219483.0</td>\n",
       "      <td>221134.0</td>\n",
       "      <td>223179.0</td>\n",
       "    </tr>\n",
       "    <tr>\n",
       "      <th>7</th>\n",
       "      <td>1999</td>\n",
       "      <td>223997</td>\n",
       "      <td>226250</td>\n",
       "      <td>227417</td>\n",
       "      <td>229037</td>\n",
       "      <td>231235</td>\n",
       "      <td>231903</td>\n",
       "      <td>233948.0</td>\n",
       "      <td>236566.0</td>\n",
       "      <td>237481.0</td>\n",
       "      <td>237553.0</td>\n",
       "      <td>240544.0</td>\n",
       "      <td>245485.0</td>\n",
       "    </tr>\n",
       "    <tr>\n",
       "      <th>8</th>\n",
       "      <td>2000</td>\n",
       "      <td>243436</td>\n",
       "      <td>247133</td>\n",
       "      <td>249825</td>\n",
       "      <td>245831</td>\n",
       "      <td>246201</td>\n",
       "      <td>248160</td>\n",
       "      <td>247176.0</td>\n",
       "      <td>247576.0</td>\n",
       "      <td>251837.0</td>\n",
       "      <td>251221.0</td>\n",
       "      <td>250331.0</td>\n",
       "      <td>250658.0</td>\n",
       "    </tr>\n",
       "    <tr>\n",
       "      <th>9</th>\n",
       "      <td>2001</td>\n",
       "      <td>252654</td>\n",
       "      <td>252704</td>\n",
       "      <td>250328</td>\n",
       "      <td>254763</td>\n",
       "      <td>255218</td>\n",
       "      <td>254022</td>\n",
       "      <td>252997.0</td>\n",
       "      <td>254560.0</td>\n",
       "      <td>249845.0</td>\n",
       "      <td>267999.0</td>\n",
       "      <td>260514.0</td>\n",
       "      <td>256549.0</td>\n",
       "    </tr>\n",
       "    <tr>\n",
       "      <th>10</th>\n",
       "      <td>2002</td>\n",
       "      <td>256307</td>\n",
       "      <td>257670</td>\n",
       "      <td>257059</td>\n",
       "      <td>261333</td>\n",
       "      <td>257573</td>\n",
       "      <td>259786</td>\n",
       "      <td>262769.0</td>\n",
       "      <td>265043.0</td>\n",
       "      <td>260626.0</td>\n",
       "      <td>261953.0</td>\n",
       "      <td>263568.0</td>\n",
       "      <td>265930.0</td>\n",
       "    </tr>\n",
       "    <tr>\n",
       "      <th>11</th>\n",
       "      <td>2003</td>\n",
       "      <td>267230</td>\n",
       "      <td>263188</td>\n",
       "      <td>267820</td>\n",
       "      <td>267197</td>\n",
       "      <td>267362</td>\n",
       "      <td>270396</td>\n",
       "      <td>273352.0</td>\n",
       "      <td>277965.0</td>\n",
       "      <td>276430.0</td>\n",
       "      <td>274764.0</td>\n",
       "      <td>278298.0</td>\n",
       "      <td>277612.0</td>\n",
       "    </tr>\n",
       "    <tr>\n",
       "      <th>12</th>\n",
       "      <td>2004</td>\n",
       "      <td>278913</td>\n",
       "      <td>280932</td>\n",
       "      <td>286209</td>\n",
       "      <td>282952</td>\n",
       "      <td>288252</td>\n",
       "      <td>284133</td>\n",
       "      <td>287358.0</td>\n",
       "      <td>287941.0</td>\n",
       "      <td>293139.0</td>\n",
       "      <td>295115.0</td>\n",
       "      <td>296177.0</td>\n",
       "      <td>299763.0</td>\n",
       "    </tr>\n",
       "    <tr>\n",
       "      <th>13</th>\n",
       "      <td>2005</td>\n",
       "      <td>296696</td>\n",
       "      <td>300557</td>\n",
       "      <td>301308</td>\n",
       "      <td>303760</td>\n",
       "      <td>301776</td>\n",
       "      <td>310989</td>\n",
       "      <td>313520.0</td>\n",
       "      <td>310046.0</td>\n",
       "      <td>310673.0</td>\n",
       "      <td>310479.0</td>\n",
       "      <td>313303.0</td>\n",
       "      <td>313473.0</td>\n",
       "    </tr>\n",
       "    <tr>\n",
       "      <th>14</th>\n",
       "      <td>2006</td>\n",
       "      <td>322348</td>\n",
       "      <td>320171</td>\n",
       "      <td>320869</td>\n",
       "      <td>322561</td>\n",
       "      <td>321794</td>\n",
       "      <td>323184</td>\n",
       "      <td>324204.0</td>\n",
       "      <td>325324.0</td>\n",
       "      <td>323236.0</td>\n",
       "      <td>322678.0</td>\n",
       "      <td>323343.0</td>\n",
       "      <td>326849.0</td>\n",
       "    </tr>\n",
       "    <tr>\n",
       "      <th>15</th>\n",
       "      <td>2007</td>\n",
       "      <td>327181</td>\n",
       "      <td>327953</td>\n",
       "      <td>330579</td>\n",
       "      <td>329560</td>\n",
       "      <td>334202</td>\n",
       "      <td>331076</td>\n",
       "      <td>332342.0</td>\n",
       "      <td>334169.0</td>\n",
       "      <td>335442.0</td>\n",
       "      <td>337530.0</td>\n",
       "      <td>341133.0</td>\n",
       "      <td>336189.0</td>\n",
       "    </tr>\n",
       "    <tr>\n",
       "      <th>16</th>\n",
       "      <td>2008</td>\n",
       "      <td>337412</td>\n",
       "      <td>334584</td>\n",
       "      <td>335193</td>\n",
       "      <td>334843</td>\n",
       "      <td>337947</td>\n",
       "      <td>338311</td>\n",
       "      <td>336771.0</td>\n",
       "      <td>334045.0</td>\n",
       "      <td>328343.0</td>\n",
       "      <td>314830.0</td>\n",
       "      <td>301332.0</td>\n",
       "      <td>294025.0</td>\n",
       "    </tr>\n",
       "    <tr>\n",
       "      <th>17</th>\n",
       "      <td>2009</td>\n",
       "      <td>298673</td>\n",
       "      <td>297631</td>\n",
       "      <td>292300</td>\n",
       "      <td>293614</td>\n",
       "      <td>296501</td>\n",
       "      <td>302169</td>\n",
       "      <td>302802.0</td>\n",
       "      <td>309023.0</td>\n",
       "      <td>301033.0</td>\n",
       "      <td>304154.0</td>\n",
       "      <td>306675.0</td>\n",
       "      <td>308413.0</td>\n",
       "    </tr>\n",
       "    <tr>\n",
       "      <th>18</th>\n",
       "      <td>2010</td>\n",
       "      <td>308299</td>\n",
       "      <td>308628</td>\n",
       "      <td>316003</td>\n",
       "      <td>318707</td>\n",
       "      <td>315604</td>\n",
       "      <td>314925</td>\n",
       "      <td>315632.0</td>\n",
       "      <td>317408.0</td>\n",
       "      <td>320080.0</td>\n",
       "      <td>323900.0</td>\n",
       "      <td>327745.0</td>\n",
       "      <td>329627.0</td>\n",
       "    </tr>\n",
       "    <tr>\n",
       "      <th>19</th>\n",
       "      <td>2011</td>\n",
       "      <td>332357</td>\n",
       "      <td>334710</td>\n",
       "      <td>338007</td>\n",
       "      <td>339884</td>\n",
       "      <td>339303</td>\n",
       "      <td>341600</td>\n",
       "      <td>341373.0</td>\n",
       "      <td>342288.0</td>\n",
       "      <td>345496.0</td>\n",
       "      <td>347924.0</td>\n",
       "      <td>349304.0</td>\n",
       "      <td>349744.0</td>\n",
       "    </tr>\n",
       "    <tr>\n",
       "      <th>20</th>\n",
       "      <td>2012</td>\n",
       "      <td>352862</td>\n",
       "      <td>357379</td>\n",
       "      <td>358719</td>\n",
       "      <td>356849</td>\n",
       "      <td>356018</td>\n",
       "      <td>352043</td>\n",
       "      <td>353891.0</td>\n",
       "      <td>358450.0</td>\n",
       "      <td>361470.0</td>\n",
       "      <td>361991.0</td>\n",
       "      <td>362876.0</td>\n",
       "      <td>364488.0</td>\n",
       "    </tr>\n",
       "    <tr>\n",
       "      <th>21</th>\n",
       "      <td>2013</td>\n",
       "      <td>367009</td>\n",
       "      <td>372291</td>\n",
       "      <td>369081</td>\n",
       "      <td>367514</td>\n",
       "      <td>369493</td>\n",
       "      <td>371041</td>\n",
       "      <td>373554.0</td>\n",
       "      <td>372489.0</td>\n",
       "      <td>372505.0</td>\n",
       "      <td>373663.0</td>\n",
       "      <td>373914.0</td>\n",
       "      <td>377032.0</td>\n",
       "    </tr>\n",
       "    <tr>\n",
       "      <th>22</th>\n",
       "      <td>2014</td>\n",
       "      <td>373033</td>\n",
       "      <td>378581</td>\n",
       "      <td>382601</td>\n",
       "      <td>386689</td>\n",
       "      <td>387100</td>\n",
       "      <td>388106</td>\n",
       "      <td>388359.0</td>\n",
       "      <td>391305.0</td>\n",
       "      <td>389860.0</td>\n",
       "      <td>390506.0</td>\n",
       "      <td>391805.0</td>\n",
       "      <td>388569.0</td>\n",
       "    </tr>\n",
       "    <tr>\n",
       "      <th>23</th>\n",
       "      <td>2015</td>\n",
       "      <td>385648</td>\n",
       "      <td>385157</td>\n",
       "      <td>391420</td>\n",
       "      <td>391356</td>\n",
       "      <td>394718</td>\n",
       "      <td>395464</td>\n",
       "      <td>398193.0</td>\n",
       "      <td>398105.0</td>\n",
       "      <td>396248.0</td>\n",
       "      <td>394503.0</td>\n",
       "      <td>396240.0</td>\n",
       "      <td>397052.0</td>\n",
       "    </tr>\n",
       "    <tr>\n",
       "      <th>24</th>\n",
       "      <td>2016</td>\n",
       "      <td>394749</td>\n",
       "      <td>398105</td>\n",
       "      <td>396911</td>\n",
       "      <td>398190</td>\n",
       "      <td>400143</td>\n",
       "      <td>404756</td>\n",
       "      <td>403730.0</td>\n",
       "      <td>403968.0</td>\n",
       "      <td>405958.0</td>\n",
       "      <td>407395.0</td>\n",
       "      <td>406061.0</td>\n",
       "      <td>412610.0</td>\n",
       "    </tr>\n",
       "    <tr>\n",
       "      <th>25</th>\n",
       "      <td>2017</td>\n",
       "      <td>416081</td>\n",
       "      <td>415503</td>\n",
       "      <td>414620</td>\n",
       "      <td>416889</td>\n",
       "      <td>414540</td>\n",
       "      <td>416505</td>\n",
       "      <td>416744.0</td>\n",
       "      <td>417179.0</td>\n",
       "      <td>426501.0</td>\n",
       "      <td>426933.0</td>\n",
       "      <td>431158.0</td>\n",
       "      <td>433282.0</td>\n",
       "    </tr>\n",
       "    <tr>\n",
       "      <th>26</th>\n",
       "      <td>2018</td>\n",
       "      <td>432148</td>\n",
       "      <td>434106</td>\n",
       "      <td>433232</td>\n",
       "      <td>435610</td>\n",
       "      <td>439996</td>\n",
       "      <td>438191</td>\n",
       "      <td>440703.0</td>\n",
       "      <td>439278.0</td>\n",
       "      <td>438985.0</td>\n",
       "      <td>444038.0</td>\n",
       "      <td>445242.0</td>\n",
       "      <td>434803.0</td>\n",
       "    </tr>\n",
       "    <tr>\n",
       "      <th>27</th>\n",
       "      <td>2019</td>\n",
       "      <td>440751</td>\n",
       "      <td>439996</td>\n",
       "      <td>447167</td>\n",
       "      <td>448709</td>\n",
       "      <td>449552</td>\n",
       "      <td>450927</td>\n",
       "      <td>454012.0</td>\n",
       "      <td>456500.0</td>\n",
       "      <td>452849.0</td>\n",
       "      <td>455486.0</td>\n",
       "      <td>457658.0</td>\n",
       "      <td>458055.0</td>\n",
       "    </tr>\n",
       "    <tr>\n",
       "      <th>28</th>\n",
       "      <td>2020</td>\n",
       "      <td>460586</td>\n",
       "      <td>459610</td>\n",
       "      <td>434281</td>\n",
       "      <td>379892</td>\n",
       "      <td>444631</td>\n",
       "      <td>476343</td>\n",
       "      <td>481627.0</td>\n",
       "      <td>483716.0</td>\n",
       "      <td>493327.0</td>\n",
       "      <td>493991.0</td>\n",
       "      <td>488652.0</td>\n",
       "      <td>484782.0</td>\n",
       "    </tr>\n",
       "    <tr>\n",
       "      <th>29</th>\n",
       "      <td>2021</td>\n",
       "      <td>520162</td>\n",
       "      <td>504458</td>\n",
       "      <td>559871</td>\n",
       "      <td>562269</td>\n",
       "      <td>548987</td>\n",
       "      <td>550782</td>\n",
       "      <td>NaN</td>\n",
       "      <td>NaN</td>\n",
       "      <td>NaN</td>\n",
       "      <td>NaN</td>\n",
       "      <td>NaN</td>\n",
       "      <td>NaN</td>\n",
       "    </tr>\n",
       "  </tbody>\n",
       "</table>\n",
       "</div>"
      ],
      "text/plain": [
       "    YEAR     JAN     FEB     MAR     APR     MAY     JUN       JUL       AUG  \\\n",
       "0   1992  146925  147223  146805  148032  149010  149800  150761.0  151067.0   \n",
       "1   1993  157555  156266  154752  158979  160605  160127  162816.0  162506.0   \n",
       "2   1994  167518  169649  172766  173106  172329  174241  174781.0  177295.0   \n",
       "3   1995  182413  179488  181013  181686  183536  186081  185431.0  186806.0   \n",
       "4   1996  189135  192266  194029  194744  196205  196136  196187.0  196218.0   \n",
       "5   1997  202371  204286  204990  203399  201699  204675  207014.0  207635.0   \n",
       "6   1998  209666  209552  210832  213633  214639  216337  214841.0  213636.0   \n",
       "7   1999  223997  226250  227417  229037  231235  231903  233948.0  236566.0   \n",
       "8   2000  243436  247133  249825  245831  246201  248160  247176.0  247576.0   \n",
       "9   2001  252654  252704  250328  254763  255218  254022  252997.0  254560.0   \n",
       "10  2002  256307  257670  257059  261333  257573  259786  262769.0  265043.0   \n",
       "11  2003  267230  263188  267820  267197  267362  270396  273352.0  277965.0   \n",
       "12  2004  278913  280932  286209  282952  288252  284133  287358.0  287941.0   \n",
       "13  2005  296696  300557  301308  303760  301776  310989  313520.0  310046.0   \n",
       "14  2006  322348  320171  320869  322561  321794  323184  324204.0  325324.0   \n",
       "15  2007  327181  327953  330579  329560  334202  331076  332342.0  334169.0   \n",
       "16  2008  337412  334584  335193  334843  337947  338311  336771.0  334045.0   \n",
       "17  2009  298673  297631  292300  293614  296501  302169  302802.0  309023.0   \n",
       "18  2010  308299  308628  316003  318707  315604  314925  315632.0  317408.0   \n",
       "19  2011  332357  334710  338007  339884  339303  341600  341373.0  342288.0   \n",
       "20  2012  352862  357379  358719  356849  356018  352043  353891.0  358450.0   \n",
       "21  2013  367009  372291  369081  367514  369493  371041  373554.0  372489.0   \n",
       "22  2014  373033  378581  382601  386689  387100  388106  388359.0  391305.0   \n",
       "23  2015  385648  385157  391420  391356  394718  395464  398193.0  398105.0   \n",
       "24  2016  394749  398105  396911  398190  400143  404756  403730.0  403968.0   \n",
       "25  2017  416081  415503  414620  416889  414540  416505  416744.0  417179.0   \n",
       "26  2018  432148  434106  433232  435610  439996  438191  440703.0  439278.0   \n",
       "27  2019  440751  439996  447167  448709  449552  450927  454012.0  456500.0   \n",
       "28  2020  460586  459610  434281  379892  444631  476343  481627.0  483716.0   \n",
       "29  2021  520162  504458  559871  562269  548987  550782       NaN       NaN   \n",
       "\n",
       "         SEP       OCT       NOV       DEC  \n",
       "0   152588.0  153521.0  153583.0  155614.0  \n",
       "1   163258.0  164685.0  166594.0  168161.0  \n",
       "2   178787.0  180561.0  180703.0  181524.0  \n",
       "3   187366.0  186565.0  189055.0  190774.0  \n",
       "4   198859.0  200509.0  200174.0  201284.0  \n",
       "5   208326.0  208078.0  208936.0  209363.0  \n",
       "6   215720.0  219483.0  221134.0  223179.0  \n",
       "7   237481.0  237553.0  240544.0  245485.0  \n",
       "8   251837.0  251221.0  250331.0  250658.0  \n",
       "9   249845.0  267999.0  260514.0  256549.0  \n",
       "10  260626.0  261953.0  263568.0  265930.0  \n",
       "11  276430.0  274764.0  278298.0  277612.0  \n",
       "12  293139.0  295115.0  296177.0  299763.0  \n",
       "13  310673.0  310479.0  313303.0  313473.0  \n",
       "14  323236.0  322678.0  323343.0  326849.0  \n",
       "15  335442.0  337530.0  341133.0  336189.0  \n",
       "16  328343.0  314830.0  301332.0  294025.0  \n",
       "17  301033.0  304154.0  306675.0  308413.0  \n",
       "18  320080.0  323900.0  327745.0  329627.0  \n",
       "19  345496.0  347924.0  349304.0  349744.0  \n",
       "20  361470.0  361991.0  362876.0  364488.0  \n",
       "21  372505.0  373663.0  373914.0  377032.0  \n",
       "22  389860.0  390506.0  391805.0  388569.0  \n",
       "23  396248.0  394503.0  396240.0  397052.0  \n",
       "24  405958.0  407395.0  406061.0  412610.0  \n",
       "25  426501.0  426933.0  431158.0  433282.0  \n",
       "26  438985.0  444038.0  445242.0  434803.0  \n",
       "27  452849.0  455486.0  457658.0  458055.0  \n",
       "28  493327.0  493991.0  488652.0  484782.0  \n",
       "29       NaN       NaN       NaN       NaN  "
      ]
     },
     "execution_count": 4,
     "metadata": {},
     "output_type": "execute_result"
    }
   ],
   "source": [
    "retail_df"
   ]
  },
  {
   "cell_type": "code",
   "execution_count": 5,
   "id": "7e687bdb",
   "metadata": {},
   "outputs": [],
   "source": [
    "# melt into long data frame\n",
    "retail_long = pd.melt(retail_df, id_vars = \"YEAR\", var_name=\"Month\", value_name=\"Sales\")"
   ]
  },
  {
   "cell_type": "code",
   "execution_count": 6,
   "id": "b783c86b",
   "metadata": {},
   "outputs": [
    {
     "data": {
      "text/html": [
       "<div>\n",
       "<style scoped>\n",
       "    .dataframe tbody tr th:only-of-type {\n",
       "        vertical-align: middle;\n",
       "    }\n",
       "\n",
       "    .dataframe tbody tr th {\n",
       "        vertical-align: top;\n",
       "    }\n",
       "\n",
       "    .dataframe thead th {\n",
       "        text-align: right;\n",
       "    }\n",
       "</style>\n",
       "<table border=\"1\" class=\"dataframe\">\n",
       "  <thead>\n",
       "    <tr style=\"text-align: right;\">\n",
       "      <th></th>\n",
       "      <th>YEAR</th>\n",
       "      <th>Month</th>\n",
       "      <th>Sales</th>\n",
       "    </tr>\n",
       "  </thead>\n",
       "  <tbody>\n",
       "    <tr>\n",
       "      <th>0</th>\n",
       "      <td>1992</td>\n",
       "      <td>JAN</td>\n",
       "      <td>146925.0</td>\n",
       "    </tr>\n",
       "    <tr>\n",
       "      <th>1</th>\n",
       "      <td>1993</td>\n",
       "      <td>JAN</td>\n",
       "      <td>157555.0</td>\n",
       "    </tr>\n",
       "    <tr>\n",
       "      <th>2</th>\n",
       "      <td>1994</td>\n",
       "      <td>JAN</td>\n",
       "      <td>167518.0</td>\n",
       "    </tr>\n",
       "    <tr>\n",
       "      <th>3</th>\n",
       "      <td>1995</td>\n",
       "      <td>JAN</td>\n",
       "      <td>182413.0</td>\n",
       "    </tr>\n",
       "    <tr>\n",
       "      <th>4</th>\n",
       "      <td>1996</td>\n",
       "      <td>JAN</td>\n",
       "      <td>189135.0</td>\n",
       "    </tr>\n",
       "    <tr>\n",
       "      <th>...</th>\n",
       "      <td>...</td>\n",
       "      <td>...</td>\n",
       "      <td>...</td>\n",
       "    </tr>\n",
       "    <tr>\n",
       "      <th>355</th>\n",
       "      <td>2017</td>\n",
       "      <td>DEC</td>\n",
       "      <td>433282.0</td>\n",
       "    </tr>\n",
       "    <tr>\n",
       "      <th>356</th>\n",
       "      <td>2018</td>\n",
       "      <td>DEC</td>\n",
       "      <td>434803.0</td>\n",
       "    </tr>\n",
       "    <tr>\n",
       "      <th>357</th>\n",
       "      <td>2019</td>\n",
       "      <td>DEC</td>\n",
       "      <td>458055.0</td>\n",
       "    </tr>\n",
       "    <tr>\n",
       "      <th>358</th>\n",
       "      <td>2020</td>\n",
       "      <td>DEC</td>\n",
       "      <td>484782.0</td>\n",
       "    </tr>\n",
       "    <tr>\n",
       "      <th>359</th>\n",
       "      <td>2021</td>\n",
       "      <td>DEC</td>\n",
       "      <td>NaN</td>\n",
       "    </tr>\n",
       "  </tbody>\n",
       "</table>\n",
       "<p>360 rows × 3 columns</p>\n",
       "</div>"
      ],
      "text/plain": [
       "     YEAR Month     Sales\n",
       "0    1992   JAN  146925.0\n",
       "1    1993   JAN  157555.0\n",
       "2    1994   JAN  167518.0\n",
       "3    1995   JAN  182413.0\n",
       "4    1996   JAN  189135.0\n",
       "..    ...   ...       ...\n",
       "355  2017   DEC  433282.0\n",
       "356  2018   DEC  434803.0\n",
       "357  2019   DEC  458055.0\n",
       "358  2020   DEC  484782.0\n",
       "359  2021   DEC       NaN\n",
       "\n",
       "[360 rows x 3 columns]"
      ]
     },
     "execution_count": 6,
     "metadata": {},
     "output_type": "execute_result"
    }
   ],
   "source": [
    "retail_long"
   ]
  },
  {
   "cell_type": "code",
   "execution_count": 7,
   "id": "b40dc7e1",
   "metadata": {},
   "outputs": [],
   "source": [
    "# connect month and year together\n",
    "retail_long[\"Month\"] = retail_long.Month + \" \" + retail_long.YEAR.map(str)"
   ]
  },
  {
   "cell_type": "code",
   "execution_count": 8,
   "id": "4cc31c75",
   "metadata": {},
   "outputs": [],
   "source": [
    "retail_long = retail_long.drop(\"YEAR\", axis = 1)"
   ]
  },
  {
   "cell_type": "code",
   "execution_count": 9,
   "id": "0bf87a06",
   "metadata": {},
   "outputs": [],
   "source": [
    "# convert into datetime and sort\n",
    "retail_long[\"Month\"] = pd.to_datetime(retail_long.Month, format=\"%b %Y\",dayfirst=True)\n",
    "retail_long = retail_long.sort_values(\"Month\")\n",
    "retail_long = retail_long.set_index(\"Month\")"
   ]
  },
  {
   "cell_type": "code",
   "execution_count": 10,
   "id": "d98ef514",
   "metadata": {},
   "outputs": [
    {
     "data": {
      "text/html": [
       "<div>\n",
       "<style scoped>\n",
       "    .dataframe tbody tr th:only-of-type {\n",
       "        vertical-align: middle;\n",
       "    }\n",
       "\n",
       "    .dataframe tbody tr th {\n",
       "        vertical-align: top;\n",
       "    }\n",
       "\n",
       "    .dataframe thead th {\n",
       "        text-align: right;\n",
       "    }\n",
       "</style>\n",
       "<table border=\"1\" class=\"dataframe\">\n",
       "  <thead>\n",
       "    <tr style=\"text-align: right;\">\n",
       "      <th></th>\n",
       "      <th>Sales</th>\n",
       "    </tr>\n",
       "    <tr>\n",
       "      <th>Month</th>\n",
       "      <th></th>\n",
       "    </tr>\n",
       "  </thead>\n",
       "  <tbody>\n",
       "    <tr>\n",
       "      <th>1992-01-01</th>\n",
       "      <td>146925.0</td>\n",
       "    </tr>\n",
       "    <tr>\n",
       "      <th>1992-02-01</th>\n",
       "      <td>147223.0</td>\n",
       "    </tr>\n",
       "    <tr>\n",
       "      <th>1992-03-01</th>\n",
       "      <td>146805.0</td>\n",
       "    </tr>\n",
       "    <tr>\n",
       "      <th>1992-04-01</th>\n",
       "      <td>148032.0</td>\n",
       "    </tr>\n",
       "    <tr>\n",
       "      <th>1992-05-01</th>\n",
       "      <td>149010.0</td>\n",
       "    </tr>\n",
       "    <tr>\n",
       "      <th>...</th>\n",
       "      <td>...</td>\n",
       "    </tr>\n",
       "    <tr>\n",
       "      <th>2021-08-01</th>\n",
       "      <td>NaN</td>\n",
       "    </tr>\n",
       "    <tr>\n",
       "      <th>2021-09-01</th>\n",
       "      <td>NaN</td>\n",
       "    </tr>\n",
       "    <tr>\n",
       "      <th>2021-10-01</th>\n",
       "      <td>NaN</td>\n",
       "    </tr>\n",
       "    <tr>\n",
       "      <th>2021-11-01</th>\n",
       "      <td>NaN</td>\n",
       "    </tr>\n",
       "    <tr>\n",
       "      <th>2021-12-01</th>\n",
       "      <td>NaN</td>\n",
       "    </tr>\n",
       "  </tbody>\n",
       "</table>\n",
       "<p>360 rows × 1 columns</p>\n",
       "</div>"
      ],
      "text/plain": [
       "               Sales\n",
       "Month               \n",
       "1992-01-01  146925.0\n",
       "1992-02-01  147223.0\n",
       "1992-03-01  146805.0\n",
       "1992-04-01  148032.0\n",
       "1992-05-01  149010.0\n",
       "...              ...\n",
       "2021-08-01       NaN\n",
       "2021-09-01       NaN\n",
       "2021-10-01       NaN\n",
       "2021-11-01       NaN\n",
       "2021-12-01       NaN\n",
       "\n",
       "[360 rows x 1 columns]"
      ]
     },
     "execution_count": 10,
     "metadata": {},
     "output_type": "execute_result"
    }
   ],
   "source": [
    "retail_long"
   ]
  },
  {
   "cell_type": "markdown",
   "id": "0a6c549a",
   "metadata": {},
   "source": [
    "## Graphing Time Series Data"
   ]
  },
  {
   "cell_type": "code",
   "execution_count": 11,
   "id": "560a59c5",
   "metadata": {},
   "outputs": [
    {
     "data": {
      "image/png": "[encoded data removed]",
      "text/plain": [
       "<Figure size 2160x720 with 1 Axes>"
      ]
     },
     "metadata": {
      "needs_background": "light"
     },
     "output_type": "display_data"
    }
   ],
   "source": [
    "plt.figure(figsize=(30,10))\n",
    "sns.lineplot(x=\"Month\", y=\"Sales\", data=retail_long)\n",
    "plt.xlabel(\"Year\")\n",
    "plt.title(\"Monthly Retail Sales (1992 - 2021)\")\n",
    "plt.show()"
   ]
  },
  {
   "cell_type": "code",
   "execution_count": 12,
   "id": "0b8166d0",
   "metadata": {},
   "outputs": [
    {
     "data": {
      "image/png": "[encoded data removed]",
      "text/plain": [
       "<Figure size 1080x576 with 4 Axes>"
      ]
     },
     "metadata": {
      "needs_background": "light"
     },
     "output_type": "display_data"
    }
   ],
   "source": [
    "# look for trends and seasonality for model\n",
    "res = sm.tsa.seasonal_decompose(retail_long.dropna(), period=12)\n",
    "fig=res.plot()\n",
    "fig.set_figheight(8)\n",
    "fig.set_figwidth(15)\n",
    "plt.show()"
   ]
  },
  {
   "cell_type": "markdown",
   "id": "11a139df",
   "metadata": {},
   "source": [
    "The graph above shows a consistent increase in monthly sales over the last thirty years. There have been two noticeable declines, in 2008 and 2020. These declines likely relate to the financial crises of the Great Recession and the Covid-19 pandemic respectively. There seems to be a sharp incline in sales post-2020. It will be interesting to see how the model I build can predict these future values given the linear nature of the retail sales up to that point. \n",
    "\n",
    "By decomposing the time series we can also see that there is a steady upwards trend and seasonality of the data throughout each year."
   ]
  },
  {
   "cell_type": "markdown",
   "id": "f2611ccf",
   "metadata": {},
   "source": [
    "## Building a Predictive Model"
   ]
  },
  {
   "cell_type": "code",
   "execution_count": null,
   "id": "b7d42a7e",
   "metadata": {},
   "outputs": [],
   "source": []
  },
  {
   "cell_type": "markdown",
   "id": "3574466e",
   "metadata": {},
   "source": [
    "### Splitting Data"
   ]
  },
  {
   "cell_type": "code",
   "execution_count": 13,
   "id": "043b1c42",
   "metadata": {},
   "outputs": [],
   "source": [
    "# split data into test-train with test set being the period from July 2020 to June 2021\n",
    "train =  retail_long['1992-01-01':'2020-06-01']\n",
    "test = retail_long['2020-07-01':'2021-06-01']"
   ]
  },
  {
   "cell_type": "markdown",
   "id": "2b40981b",
   "metadata": {},
   "source": [
    "### Checking for Hyperparemeters"
   ]
  },
  {
   "cell_type": "markdown",
   "id": "abc2e8e8",
   "metadata": {},
   "source": [
    "Note that this section is imperfect and the values that are derived from this section ultimately did not produce the best model"
   ]
  },
  {
   "cell_type": "code",
   "execution_count": 14,
   "id": "bad46e38",
   "metadata": {},
   "outputs": [],
   "source": [
    "def check_stationarity(ts):\n",
    "    dftest = adfuller(ts)\n",
    "    adf = dftest[0]\n",
    "    pvalue = dftest[1]\n",
    "    critical_value = dftest[4]['5%']\n",
    "    if (pvalue < 0.05) and (adf < critical_value):\n",
    "        print('The series is stationary')\n",
    "    else:\n",
    "        print('The series is NOT stationary')"
   ]
  },
  {
   "cell_type": "code",
   "execution_count": 15,
   "id": "e880223f",
   "metadata": {},
   "outputs": [
    {
     "name": "stdout",
     "output_type": "stream",
     "text": [
      "The series is stationary\n"
     ]
    }
   ],
   "source": [
    "# check to see if series is stationary for d-value\n",
    "seasonal = res.seasonal\n",
    "check_stationarity(seasonal)"
   ]
  },
  {
   "cell_type": "markdown",
   "id": "0ad07198",
   "metadata": {},
   "source": [
    "Series is stationary so d can be 0"
   ]
  },
  {
   "cell_type": "code",
   "execution_count": 16,
   "id": "1b10ef92",
   "metadata": {},
   "outputs": [
    {
     "name": "stderr",
     "output_type": "stream",
     "text": [
      "C:\\Users\\Stewart\\anaconda3\\lib\\site-packages\\statsmodels\\graphics\\tsaplots.py:348: FutureWarning: The default method 'yw' can produce PACF values outside of the [-1,1] interval. After 0.13, the default will change tounadjusted Yule-Walker ('ywm'). You can use this method now by setting method='ywm'.\n",
      "  warnings.warn(\n"
     ]
    },
    {
     "data": {
      "image/png": "[encoded data removed]",
      "text/plain": [
       "<Figure size 432x288 with 1 Axes>"
      ]
     },
     "metadata": {
      "needs_background": "light"
     },
     "output_type": "display_data"
    }
   ],
   "source": [
    "# looking for p value by checking partial autocorrelation\n",
    "plot_pacf(seasonal, lags =12)\n",
    "plt.show()"
   ]
  },
  {
   "cell_type": "markdown",
   "id": "cde63d04",
   "metadata": {},
   "source": [
    "Max lag outside confidence interval is 12 so P can be 12 and"
   ]
  },
  {
   "cell_type": "code",
   "execution_count": 17,
   "id": "8984b245",
   "metadata": {},
   "outputs": [
    {
     "data": {
      "image/png": "[encoded data removed]",
      "text/plain": [
       "<Figure size 432x288 with 1 Axes>"
      ]
     },
     "metadata": {
      "needs_background": "light"
     },
     "output_type": "display_data"
    }
   ],
   "source": [
    "# look at autocorrelation plot for q value\n",
    "plot_acf(seasonal, lags =12)\n",
    "plt.show()"
   ]
  },
  {
   "cell_type": "markdown",
   "id": "3b278f8c",
   "metadata": {},
   "source": [
    "Max lag within the confidence interval is 10 so Q can be 12 and P "
   ]
  },
  {
   "cell_type": "markdown",
   "id": "a7d43d98",
   "metadata": {},
   "source": [
    "### Building SARIMA Model"
   ]
  },
  {
   "cell_type": "markdown",
   "id": "a8941760",
   "metadata": {},
   "source": [
    "I built the model multiple times with different values for (p, d, q) and (P, D, Q, S) including what I found in the analysis above. The resulting model below gave the lowest RMSE. "
   ]
  },
  {
   "cell_type": "code",
   "execution_count": 125,
   "id": "99d367bc",
   "metadata": {},
   "outputs": [
    {
     "name": "stderr",
     "output_type": "stream",
     "text": [
      "C:\\Users\\Stewart\\anaconda3\\lib\\site-packages\\statsmodels\\tsa\\base\\tsa_model.py:471: ValueWarning: No frequency information was provided, so inferred frequency MS will be used.\n",
      "  self._init_dates(dates, freq)\n",
      "C:\\Users\\Stewart\\anaconda3\\lib\\site-packages\\statsmodels\\tsa\\base\\tsa_model.py:471: ValueWarning: No frequency information was provided, so inferred frequency MS will be used.\n",
      "  self._init_dates(dates, freq)\n"
     ]
    }
   ],
   "source": [
    "# train SARIMAX Model with p, d, q being 0, 3, 4 and P, D, Q, S being 1, 0, 1, 12\n",
    "model = SARIMAX(train, order = (0, 3, 4), seasonal_order=(1, 0, 1, 12))"
   ]
  },
  {
   "cell_type": "code",
   "execution_count": 126,
   "id": "113d9ae5",
   "metadata": {},
   "outputs": [
    {
     "name": "stderr",
     "output_type": "stream",
     "text": [
      "C:\\Users\\Stewart\\anaconda3\\lib\\site-packages\\statsmodels\\tsa\\statespace\\sarimax.py:978: UserWarning: Non-invertible starting MA parameters found. Using zeros as starting parameters.\n",
      "  warn('Non-invertible starting MA parameters found.'\n"
     ]
    }
   ],
   "source": [
    "model_fit = model.fit()"
   ]
  },
  {
   "cell_type": "markdown",
   "id": "f0aab1d9",
   "metadata": {},
   "source": [
    "### Predicting Test Set"
   ]
  },
  {
   "cell_type": "code",
   "execution_count": 127,
   "id": "dcaa05f3",
   "metadata": {},
   "outputs": [],
   "source": [
    "# use forecast to predict the test set (12 months past training set)\n",
    "predictions = model_fit.forecast(steps=test.shape[0])"
   ]
  },
  {
   "cell_type": "code",
   "execution_count": 128,
   "id": "7924b645",
   "metadata": {
    "scrolled": false
   },
   "outputs": [
    {
     "data": {
      "text/plain": [
       "2020-07-01    492508.002092\n",
       "2020-08-01    496968.451249\n",
       "2020-09-01    499123.228265\n",
       "2020-10-01    501180.312069\n",
       "2020-11-01    503287.887230\n",
       "2020-12-01    505615.923131\n",
       "2021-01-01    507751.316539\n",
       "2021-02-01    509986.710836\n",
       "2021-03-01    512672.339636\n",
       "2021-04-01    516016.278982\n",
       "2021-05-01    517013.498524\n",
       "2021-06-01    518713.924572\n",
       "Freq: MS, Name: predicted_mean, dtype: float64"
      ]
     },
     "execution_count": 128,
     "metadata": {},
     "output_type": "execute_result"
    }
   ],
   "source": [
    "# view predictions\n",
    "predictions"
   ]
  },
  {
   "cell_type": "markdown",
   "id": "8b14d428",
   "metadata": {},
   "source": [
    "### Finding RMSE of Model"
   ]
  },
  {
   "cell_type": "code",
   "execution_count": 132,
   "id": "39f6d1fc",
   "metadata": {},
   "outputs": [],
   "source": [
    "# mean square error\n",
    "mse = mean_squared_error(test.Sales, predictions)"
   ]
  },
  {
   "cell_type": "code",
   "execution_count": 131,
   "id": "7f9f3c55",
   "metadata": {},
   "outputs": [
    {
     "data": {
      "text/plain": [
       "25215.493577606296"
      ]
     },
     "execution_count": 131,
     "metadata": {},
     "output_type": "execute_result"
    }
   ],
   "source": [
    "# root mean square error\n",
    "np.sqrt(mse)"
   ]
  },
  {
   "cell_type": "markdown",
   "id": "74bcef31",
   "metadata": {},
   "source": [
    "## Conclusions"
   ]
  },
  {
   "cell_type": "markdown",
   "id": "65cd25a0",
   "metadata": {},
   "source": [
    "The SARIMAX model I built was reasonably able to forecase the monthly sales. The RMSE was 25,215.49, which while high, is representative of the scale of the data, which is in the hundreds of thousands. To better improve the model I would need to get better at tuning the different hyperparameters of the SARIMAX model. I only focused on order and seasonal_order, but I would need to expand my focus on the other hyperparamters provided by the statsmodel package.  "
   ]
  }
 ],
 "metadata": {
  "kernelspec": {
   "display_name": "Python 3 (ipykernel)",
   "language": "python",
   "name": "python3"
  },
  "language_info": {
   "codemirror_mode": {
    "name": "ipython",
    "version": 3
   },
   "file_extension": ".py",
   "mimetype": "text/x-python",
   "name": "python",
   "nbconvert_exporter": "python",
   "pygments_lexer": "ipython3",
   "version": "3.9.7"
  }
 },
 "nbformat": 4,
 "nbformat_minor": 5
}
